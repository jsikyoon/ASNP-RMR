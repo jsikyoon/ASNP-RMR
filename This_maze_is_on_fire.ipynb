{
  "nbformat": 4,
  "nbformat_minor": 0,
  "metadata": {
    "colab": {
      "name": "This_maze_is_on_fire.ipynb",
      "provenance": [],
      "collapsed_sections": [],
      "authorship_tag": "ABX9TyNShMR7PMF8E8saO+QoSmr7",
      "include_colab_link": true
    },
    "kernelspec": {
      "name": "python3",
      "display_name": "Python 3"
    }
  },
  "cells": [
    {
      "cell_type": "markdown",
      "metadata": {
        "id": "view-in-github",
        "colab_type": "text"
      },
      "source": [
        "<a href=\"https://colab.research.google.com/github/jsikyoon/ASNP-RMR/blob/master/This_maze_is_on_fire.ipynb\" target=\"_parent\"><img src=\"https://colab.research.google.com/assets/colab-badge.svg\" alt=\"Open In Colab\"/></a>"
      ]
    },
    {
      "cell_type": "markdown",
      "metadata": {
        "id": "z7qNkKsLhu3v",
        "colab_type": "text"
      },
      "source": [
        "## 520-pro1_1 (This maze is on fire)\n",
        "\n",
        "Implementing dynamic maze, which is changed as time goes on due to the fire and comparing my own strategy to find the shortest way with given strategies 1 and 2.\n",
        "\n",
        "Required:\n",
        "  - Implementing the dynamic maze\n",
        "  - Proposing / Implementing my own strategy\n",
        "  - Comparing that with given strategies 1 and 2 on a plot of success rate vs flammability $q$ (will describe what is flammability)"
      ]
    },
    {
      "cell_type": "code",
      "metadata": {
        "id": "-dekrdwrhfVh",
        "colab_type": "code",
        "colab": {}
      },
      "source": [
        ""
      ],
      "execution_count": null,
      "outputs": []
    },
    {
      "cell_type": "markdown",
      "metadata": {
        "id": "zIJ3YETAi_lD",
        "colab_type": "text"
      },
      "source": [
        ""
      ]
    },
    {
      "cell_type": "markdown",
      "metadata": {
        "id": "YvnWAGCJh0fV",
        "colab_type": "text"
      },
      "source": [
        ""
      ]
    }
  ]
}